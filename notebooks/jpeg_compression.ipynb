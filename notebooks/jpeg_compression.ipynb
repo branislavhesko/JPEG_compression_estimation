{
 "cells": [
  {
   "cell_type": "code",
   "execution_count": 5,
   "metadata": {},
   "outputs": [
    {
     "name": "stdout",
     "output_type": "stream",
     "text": [
      "Quality: 10, 962.6441040039062\n",
      "Quality: 20, 1009.978515625\n",
      "Quality: 30, 1064.7147216796875\n",
      "Quality: 40, 1094.90380859375\n",
      "Quality: 50, 1122.2366943359375\n",
      "Quality: 60, 1150.2794189453125\n",
      "Quality: 70, 1183.3199462890625\n",
      "Quality: 80, 1217.1090087890625\n",
      "Quality: 90, 1238.5328369140625\n"
     ]
    },
    {
     "data": {
      "image/png": "[encoded data removed]",
      "text/plain": [
       "<Figure size 432x288 with 1 Axes>"
      ]
     },
     "metadata": {
      "needs_background": "light"
     },
     "output_type": "display_data"
    }
   ],
   "source": [
    "from typing import Tuple\n",
    "\n",
    "import cv2\n",
    "import einops\n",
    "from matplotlib import pyplot as plt\n",
    "import numpy as np\n",
    "import torch\n",
    "from torchvision.io import encode_jpeg, read_image, write_png, ImageReadMode\n",
    "\n",
    "\n",
    "def simulate_jpeg_compression(image: np.ndarray, jpeg_quality: int = 100) -> np.ndarray:\n",
    "    compressed_image = image.copy()\n",
    "    *_, encoded = cv2.imencode(\".jpg\", compressed_image, [cv2.IMWRITE_JPEG_QUALITY, jpeg_quality])\n",
    "    return cv2.imdecode(encoded, 1)\n",
    "\n",
    "\n",
    "def fourier_transform_method(splitter, image):\n",
    "    fft = torch.fft.fft2(splitter(image))\n",
    "    fft = torch.abs(fft)\n",
    "    return fft    \n",
    "\n",
    "\n",
    "class SplitPatch:\n",
    "    \n",
    "    def __init__(self, window_size: Tuple[int, int]):\n",
    "        self.window_size = window_size\n",
    "        \n",
    "    def __call__(self, image):\n",
    "        return einops.rearrange(image, \"c (h i) (w k) -> (h w c) i k\", i=self.window_size[0], k=self.window_size[1])\n",
    "    \n",
    "\n",
    "def pca(tensor, n_components=3):\n",
    "    assert tensor.shape[1] < tensor.shape[0]\n",
    "    cov_mat = torch.matmul(tensor.transpose(0, 1), tensor) / (tensor.shape[0] - 1)\n",
    "    eigen = torch.eig(cov_mat, eigenvectors=True)\n",
    "    return torch.matmul(tensor, eigen[1][:, :n_components])\n",
    "\n",
    "values = []\n",
    "image = read_image(\"../ash-tree-disease.png\", mode=ImageReadMode.RGB)[:, :664, :1200]\n",
    "for quality in range(10, 100, 10):\n",
    "    compressed_image = torch.from_numpy(simulate_jpeg_compression(image.permute(1, 2, 0).numpy(), jpeg_quality=quality)).permute(2, 0, 1)\n",
    "    write_png(compressed_image, \"a.png\")\n",
    "    fourier = fourier_transform_method(SplitPatch((8, 8)), image)\n",
    "    compressed_fourier = fourier_transform_method(SplitPatch((8, 8)), compressed_image)\n",
    "\n",
    "    # print(torch.abs(torch.linalg.eigvals(fourier)).mean(0))\n",
    "    values.append(torch.abs(torch.linalg.eigvals(compressed_fourier).mean(0)).numpy())\n",
    "    print(f\"Quality: {quality}, {np.sum(values[-1][1:])}\")\n",
    "    \n",
    "for value in values:\n",
    "    plt.plot(value, \"+-\")\n",
    "plt.legend(list(range(len(values))))\n",
    "plt.show()"
   ]
  },
  {
   "cell_type": "code",
   "execution_count": 12,
   "metadata": {},
   "outputs": [
    {
     "name": "stdout",
     "output_type": "stream",
     "text": [
      "tensor([6501.6836, 1139.8660,  186.0925,  107.0759,   91.9760,  254.9387,\n",
      "         149.6133,   83.8962])\n",
      "tensor([6.4680e+03, 1.1195e+03, 1.8118e+01, 1.6690e+01, 1.1241e+01, 3.3255e-01,\n",
      "        6.1187e-01, 6.1187e-01])\n"
     ]
    }
   ],
   "source": [
    "from typing import Callable, Iterable\n",
    "\n",
    "from sklearn.ensemble import RandomForestRegressor\n",
    "\n",
    "\n",
    "def create_dataset(dataset: Iterable, extraction_function: Callable, features_length: int = 8):\n",
    "    \n",
    "    feats = np.zeros((len(dataset), features_length))\n",
    "    targets = np.zeros((len(dataset)))\n",
    "    \n",
    "    for idx, (image, is_compressed, compression_level) in enumerate(dataset):\n",
    "        features = extraction_function(image)\n",
    "        feats[idx, :] = features\n",
    "        targets[idx] = compression_level\n",
    "    \n",
    "    return feats, targets\n",
    "\n",
    "samples, targets = create_dataset(None, None, 8)\n",
    "regressor = RandomForestRegressor(n_estimators=20)\n",
    "regressor.fit(samples, targets)"
   ]
  },
  {
   "cell_type": "code",
   "execution_count": null,
   "metadata": {},
   "outputs": [],
   "source": [
    "from collections import namedtuple\n",
    "import glob\n",
    "import os\n",
    "import random\n",
    "\n",
    "import torch\n",
    "import torch.utils.data as data\n",
    "\n",
    "\n",
    "RandomMinMax = namedtuple(\"RandomMinMax\", [\"min\", \"max\"])\n",
    "\n",
    "\n",
    "class SimpleClassificationDataset(data.Dataset):\n",
    "    \n",
    "    def __init__(self, image_folder, transforms, compression_probability: float = 0.5, jpeg_quality: RandomMinMax = RandomMinMax(min=20, max=95)):\n",
    "        self.images = glob.glob(os.path.join(image_folder, \"*\"))\n",
    "        self.transforms = transforms\n",
    "        self.compression_probability = compression_probability\n",
    "        self.jpeg_quality = jpeg_quality\n",
    "        \n",
    "    def __len__(self):\n",
    "        return len(self.images)\n",
    "    \n",
    "    def __getitem__(self, item):\n",
    "        image = cv2.imread(self.images[item])\n",
    "        if is_compression := (random.random() < self.compression_probability):\n",
    "            compression_level = random.randint(self.jpeg_quality.min, self.jpeg_quality.max)\n",
    "            image = simulate_jpeg_compression(image, jpeg_quality=compression_level)\n",
    "        else:\n",
    "            compression_level = 100\n",
    "        image = self.transforms(image)\n",
    "        return image, torch.tensor([is_compression]).long(), compression_level"
   ]
  },
  {
   "cell_type": "code",
   "execution_count": null,
   "metadata": {},
   "outputs": [],
   "source": []
  }
 ],
 "metadata": {
  "interpreter": {
   "hash": "dfebadd5e18a72e5cce6184b993a55d2d68c0f4cfc80fde51b6137dc8dbebd25"
  },
  "kernelspec": {
   "display_name": "Python 3.10.2 ('monster')",
   "language": "python",
   "name": "python3"
  },
  "language_info": {
   "codemirror_mode": {
    "name": "ipython",
    "version": 3
   },
   "file_extension": ".py",
   "mimetype": "text/x-python",
   "name": "python",
   "nbconvert_exporter": "python",
   "pygments_lexer": "ipython3",
   "version": "3.10.4"
  },
  "orig_nbformat": 4
 },
 "nbformat": 4,
 "nbformat_minor": 2
}
